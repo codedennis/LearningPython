{
  "nbformat": 4,
  "nbformat_minor": 0,
  "metadata": {
    "colab": {
      "provenance": [],
      "authorship_tag": "ABX9TyN75P0stfAgwT1z11MMXb8J",
      "include_colab_link": true
    },
    "kernelspec": {
      "name": "python3",
      "display_name": "Python 3"
    },
    "language_info": {
      "name": "python"
    }
  },
  "cells": [
    {
      "cell_type": "markdown",
      "metadata": {
        "id": "view-in-github",
        "colab_type": "text"
      },
      "source": [
        "<a href=\"https://colab.research.google.com/github/codedennis/LearningPython/blob/main/IfClasses.ipynb\" target=\"_parent\"><img src=\"https://colab.research.google.com/assets/colab-badge.svg\" alt=\"Open In Colab\"/></a>"
      ]
    },
    {
      "cell_type": "markdown",
      "source": [
        "### if Statements\n",
        "Perhaps the most well-known statement type is the if statement. For example:"
      ],
      "metadata": {
        "id": "9o8MmH9StQlP"
      }
    },
    {
      "cell_type": "code",
      "execution_count": 3,
      "metadata": {
        "colab": {
          "base_uri": "https://localhost:8080/"
        },
        "id": "1DcHStjwg14O",
        "outputId": "055e0ed2-3a5b-4d7e-d840-76c3a5bd92cd"
      },
      "outputs": [
        {
          "output_type": "stream",
          "name": "stdout",
          "text": [
            "X é igual a 1\n"
          ]
        }
      ],
      "source": [
        "x = 1\n",
        "\n",
        "if x == 2:\n",
        "  print('Maior ou igual a 2')\n",
        "elif x== 1:\n",
        "  print('X é igual a 1')\n",
        "else:\n",
        "  print('Menor que 3')"
      ]
    },
    {
      "cell_type": "markdown",
      "source": [
        "#### The if statement is used for conditional execution:\n"
      ],
      "metadata": {
        "id": "rQ_ATKf4teQ7"
      }
    },
    {
      "cell_type": "code",
      "source": [
        "if_stmt: \"if\" assignment_expression \":\" suite\n",
        "         (\"elif\" assignment_expression \":\" suite)*\n",
        "         [\"else\" \":\" suite]"
      ],
      "metadata": {
        "colab": {
          "base_uri": "https://localhost:8080/",
          "height": 106
        },
        "id": "M13sT31ftq7Y",
        "outputId": "90244884-0df4-430c-e05b-0687ed31febd"
      },
      "execution_count": 10,
      "outputs": [
        {
          "output_type": "error",
          "ename": "SyntaxError",
          "evalue": "invalid syntax (ipython-input-10-2567044046.py, line 1)",
          "traceback": [
            "\u001b[0;36m  File \u001b[0;32m\"/tmp/ipython-input-10-2567044046.py\"\u001b[0;36m, line \u001b[0;32m1\u001b[0m\n\u001b[0;31m    if_stmt: \"if\" assignment_expression \":\" suite\u001b[0m\n\u001b[0m                  ^\u001b[0m\n\u001b[0;31mSyntaxError\u001b[0m\u001b[0;31m:\u001b[0m invalid syntax\n"
          ]
        }
      ]
    },
    {
      "cell_type": "markdown",
      "source": [
        "It selects exactly one of the suites by evaluating the expressions one by one until one is found to be true (see section Boolean operations for the definition of true and false); then that suite is executed (and no other part of the if statement is executed or evaluated). If all expressions are false, the suite of the else clause, if present, is executed."
      ],
      "metadata": {
        "id": "IoSJUb8qttvx"
      }
    },
    {
      "cell_type": "markdown",
      "source": [
        "#### Função para checar nota"
      ],
      "metadata": {
        "id": "7Rj62bHzqusR"
      }
    },
    {
      "cell_type": "code",
      "source": [
        "nota = int(input('Qual a sua nota? :'))\n",
        "media = 70\n",
        "rec = 40\n",
        "\n",
        "if nota >= 70:\n",
        "  print('Parabéns você passou!')\n",
        "elif nota >= rec:\n",
        "  print('Você está de recuperação')\n",
        "else:\n",
        "  print(\"Reprovado.\")"
      ],
      "metadata": {
        "colab": {
          "base_uri": "https://localhost:8080/"
        },
        "id": "KdtnDN_Pq4Xr",
        "outputId": "946cdd31-2e40-4a8f-b18f-789bce654d36"
      },
      "execution_count": 9,
      "outputs": [
        {
          "output_type": "stream",
          "name": "stdout",
          "text": [
            "Qual a sua nota? :40\n",
            "Você está de recuperação\n"
          ]
        }
      ]
    },
    {
      "cell_type": "markdown",
      "source": [
        "There can be zero or more elif parts, and the else part is optional. The keyword *‘elif’* is short for *‘else if’*, and is useful to avoid excessive indentation. An if … elif … elif … sequence is a substitute for the switch or case statements found in other languages.\n",
        "\n",
        "If you’re comparing the same value to several constants, or checking for specific types or attributes, you may also find the match statement useful. For more details see match Statements."
      ],
      "metadata": {
        "id": "Yh21ANIcslsr"
      }
    }
  ]
}